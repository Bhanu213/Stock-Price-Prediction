{
  "nbformat": 4,
  "nbformat_minor": 0,
  "metadata": {
    "colab": {
      "name": "Untitled2.ipynb",
      "provenance": [],
      "toc_visible": true
    },
    "kernelspec": {
      "name": "python3",
      "display_name": "Python 3"
    },
    "language_info": {
      "name": "python"
    }
  },
  "cells": [
    {
      "cell_type": "markdown",
      "source": [
        "**Model-2:**\n",
        "\n",
        "**Taking Open,High,Low,Last columns as input and close column as desired output.**"
      ],
      "metadata": {
        "id": "3t31sWbwncxI"
      }
    },
    {
      "cell_type": "markdown",
      "source": [
        "Importing Required libraries."
      ],
      "metadata": {
        "id": "7Tg7beyfoQU6"
      }
    },
    {
      "cell_type": "code",
      "source": [
        "import pandas as pd\n",
        "import numpy as np\n",
        "import matplotlib.pyplot as plt\n",
        "from sklearn.preprocessing import MinMaxScaler\n",
        "from tensorflow.keras.models import Sequential\n",
        "from tensorflow.keras.layers import LSTM\n",
        "from tensorflow.keras.layers import Dense, Dropout\n",
        "import math\n",
        "from sklearn.metrics import mean_squared_error"
      ],
      "metadata": {
        "id": "y9C-cJuVoOqO"
      },
      "execution_count": null,
      "outputs": []
    },
    {
      "cell_type": "markdown",
      "source": [
        "**Read the CSV file**"
      ],
      "metadata": {
        "id": "ZzphfTeioeBZ"
      }
    },
    {
      "cell_type": "code",
      "source": [
        "path=\"/content/NSE-TATAGLOBAL11.csv\"\n",
        "df=pd.read_csv(path)"
      ],
      "metadata": {
        "id": "RxxOGrLGodig"
      },
      "execution_count": null,
      "outputs": []
    },
    {
      "cell_type": "markdown",
      "source": [
        "Here Date starts from 2018-10-08 and goes upto 2013-10-08.So we have to reverse the DataFrame for better understanding and plotting"
      ],
      "metadata": {
        "id": "oxL56g9ipBwt"
      }
    },
    {
      "cell_type": "code",
      "source": [
        "df1=df[::-1]\n",
        "l=[i for i in range(1235)]\n",
        "df1.insert(8,\"Index\",l)\n",
        "df1.set_index(\"Index\",drop=True,inplace=True)"
      ],
      "metadata": {
        "id": "jlZJFB9aotkv"
      },
      "execution_count": null,
      "outputs": []
    },
    {
      "cell_type": "markdown",
      "source": [
        "Taking input as Open,High,Low,Last columns and Output as close column variable."
      ],
      "metadata": {
        "id": "rqrTcUy8pfCf"
      }
    },
    {
      "cell_type": "code",
      "source": [
        "output=df1[[\"Close\"]]\n",
        "features = [\"Open\",\"High\",\"Low\",\"Last\"]"
      ],
      "metadata": {
        "id": "jxretCj7pgQm"
      },
      "execution_count": null,
      "outputs": []
    },
    {
      "cell_type": "markdown",
      "source": [
        "\n",
        "LSTM uses sigmoid and tanh that are sensitive to magnitude so values need to be normalized Normalize the dataset"
      ],
      "metadata": {
        "id": "UD435cd-p047"
      }
    },
    {
      "cell_type": "code",
      "source": [
        "scaler = MinMaxScaler(feature_range=(0,1))\n",
        "feature_transform = scaler.fit_transform(df1[features])\n",
        "output_variable=scaler.fit_transform(output)\n",
        "feature_transform= pd.DataFrame(columns=features, data=feature_transform, index=df1.index)"
      ],
      "metadata": {
        "id": "WpDpQsuqp_vt"
      },
      "execution_count": null,
      "outputs": []
    },
    {
      "cell_type": "code",
      "source": [
        "from sklearn.model_selection import TimeSeriesSplit\n",
        "timesplit= TimeSeriesSplit(n_splits=10)\n",
        "for train_index, test_index in timesplit.split(feature_transform):\n",
        "        X_train, X_test = feature_transform[:len(train_index)], feature_transform[len(train_index): (len(train_index)+len(test_index))]\n",
        "        y_train, y_test = output_variable[:len(train_index)], output_variable[len(train_index): (len(train_index)+len(test_index))]"
      ],
      "metadata": {
        "id": "Zjr9L-pSqDx4"
      },
      "execution_count": null,
      "outputs": []
    },
    {
      "cell_type": "markdown",
      "source": [
        "As required for LSTM networks, we require to reshape an input data into 3D Tensor"
      ],
      "metadata": {
        "id": "qz-YPNssqai5"
      }
    },
    {
      "cell_type": "code",
      "source": [
        "trainX =np.array(X_train)\n",
        "testX =np.array(X_test)\n",
        "X_train = trainX.reshape(X_train.shape[0],X_train.shape[1],1)\n",
        "X_test = testX.reshape(X_test.shape[0],X_test.shape[1],1)"
      ],
      "metadata": {
        "id": "XNKKI2x3qKmN"
      },
      "execution_count": null,
      "outputs": []
    },
    {
      "cell_type": "code",
      "source": [
        "model=Sequential()\n",
        "model.add(LSTM(64,return_sequences=True,input_shape=(trainX.shape[1],1)))\n",
        "model.add(LSTM(50,return_sequences=True))\n",
        "model.add(LSTM(32))\n",
        "model.add(Dense(1))\n",
        "model.compile(loss='mean_squared_error',optimizer='adam')"
      ],
      "metadata": {
        "id": "m7ulFNMYqYTp"
      },
      "execution_count": null,
      "outputs": []
    },
    {
      "cell_type": "code",
      "source": [
        "history=model.fit(X_train, y_train,validation_data=(X_test,y_test), epochs=100, batch_size=64, verbose=1)"
      ],
      "metadata": {
        "colab": {
          "base_uri": "https://localhost:8080/"
        },
        "id": "6jd-A8yyqpBG",
        "outputId": "948291fd-4b2c-41be-ded8-c3a490caca48"
      },
      "execution_count": null,
      "outputs": [
        {
          "output_type": "stream",
          "name": "stdout",
          "text": [
            "Epoch 1/100\n",
            "18/18 [==============================] - 8s 97ms/step - loss: 0.0646 - val_loss: 0.0583\n",
            "Epoch 2/100\n",
            "18/18 [==============================] - 0s 14ms/step - loss: 0.0166 - val_loss: 0.0385\n",
            "Epoch 3/100\n",
            "18/18 [==============================] - 0s 14ms/step - loss: 0.0028 - val_loss: 0.0024\n",
            "Epoch 4/100\n",
            "18/18 [==============================] - 0s 14ms/step - loss: 9.4782e-04 - val_loss: 9.1145e-04\n",
            "Epoch 5/100\n",
            "18/18 [==============================] - 0s 13ms/step - loss: 5.3036e-04 - val_loss: 7.7741e-04\n",
            "Epoch 6/100\n",
            "18/18 [==============================] - 0s 15ms/step - loss: 4.4564e-04 - val_loss: 5.9535e-04\n",
            "Epoch 7/100\n",
            "18/18 [==============================] - 0s 14ms/step - loss: 3.6789e-04 - val_loss: 6.5901e-04\n",
            "Epoch 8/100\n",
            "18/18 [==============================] - 0s 15ms/step - loss: 2.9056e-04 - val_loss: 5.1170e-04\n",
            "Epoch 9/100\n",
            "18/18 [==============================] - 0s 16ms/step - loss: 2.3507e-04 - val_loss: 4.1554e-04\n",
            "Epoch 10/100\n",
            "18/18 [==============================] - 0s 14ms/step - loss: 1.9159e-04 - val_loss: 3.9499e-04\n",
            "Epoch 11/100\n",
            "18/18 [==============================] - 0s 14ms/step - loss: 1.6008e-04 - val_loss: 3.7941e-04\n",
            "Epoch 12/100\n",
            "18/18 [==============================] - 0s 15ms/step - loss: 1.3811e-04 - val_loss: 3.8100e-04\n",
            "Epoch 13/100\n",
            "18/18 [==============================] - 0s 16ms/step - loss: 1.2603e-04 - val_loss: 3.6774e-04\n",
            "Epoch 14/100\n",
            "18/18 [==============================] - 0s 14ms/step - loss: 1.1306e-04 - val_loss: 5.0714e-04\n",
            "Epoch 15/100\n",
            "18/18 [==============================] - 0s 14ms/step - loss: 1.1094e-04 - val_loss: 5.0176e-04\n",
            "Epoch 16/100\n",
            "18/18 [==============================] - 0s 14ms/step - loss: 1.1065e-04 - val_loss: 3.6609e-04\n",
            "Epoch 17/100\n",
            "18/18 [==============================] - 0s 15ms/step - loss: 1.0992e-04 - val_loss: 5.5377e-04\n",
            "Epoch 18/100\n",
            "18/18 [==============================] - 0s 14ms/step - loss: 1.0321e-04 - val_loss: 4.5934e-04\n",
            "Epoch 19/100\n",
            "18/18 [==============================] - 0s 14ms/step - loss: 1.0394e-04 - val_loss: 4.1184e-04\n",
            "Epoch 20/100\n",
            "18/18 [==============================] - 0s 14ms/step - loss: 1.1774e-04 - val_loss: 5.1944e-04\n",
            "Epoch 21/100\n",
            "18/18 [==============================] - 0s 16ms/step - loss: 1.0576e-04 - val_loss: 5.8692e-04\n",
            "Epoch 22/100\n",
            "18/18 [==============================] - 0s 13ms/step - loss: 1.0564e-04 - val_loss: 4.6994e-04\n",
            "Epoch 23/100\n",
            "18/18 [==============================] - 0s 13ms/step - loss: 1.0515e-04 - val_loss: 3.8364e-04\n",
            "Epoch 24/100\n",
            "18/18 [==============================] - 0s 13ms/step - loss: 1.0726e-04 - val_loss: 6.0651e-04\n",
            "Epoch 25/100\n",
            "18/18 [==============================] - 0s 14ms/step - loss: 1.0341e-04 - val_loss: 3.8974e-04\n",
            "Epoch 26/100\n",
            "18/18 [==============================] - 0s 13ms/step - loss: 1.0368e-04 - val_loss: 4.9316e-04\n",
            "Epoch 27/100\n",
            "18/18 [==============================] - 0s 13ms/step - loss: 1.0354e-04 - val_loss: 4.3414e-04\n",
            "Epoch 28/100\n",
            "18/18 [==============================] - 0s 14ms/step - loss: 1.0832e-04 - val_loss: 4.2460e-04\n",
            "Epoch 29/100\n",
            "18/18 [==============================] - 0s 14ms/step - loss: 1.0180e-04 - val_loss: 5.3113e-04\n",
            "Epoch 30/100\n",
            "18/18 [==============================] - 0s 13ms/step - loss: 1.0672e-04 - val_loss: 3.8258e-04\n",
            "Epoch 31/100\n",
            "18/18 [==============================] - 0s 14ms/step - loss: 1.1752e-04 - val_loss: 3.7482e-04\n",
            "Epoch 32/100\n",
            "18/18 [==============================] - 0s 14ms/step - loss: 1.0595e-04 - val_loss: 4.4912e-04\n",
            "Epoch 33/100\n",
            "18/18 [==============================] - 0s 14ms/step - loss: 1.0542e-04 - val_loss: 3.9035e-04\n",
            "Epoch 34/100\n",
            "18/18 [==============================] - 0s 14ms/step - loss: 1.0375e-04 - val_loss: 3.6868e-04\n",
            "Epoch 35/100\n",
            "18/18 [==============================] - 0s 14ms/step - loss: 1.0909e-04 - val_loss: 4.1490e-04\n",
            "Epoch 36/100\n",
            "18/18 [==============================] - 0s 13ms/step - loss: 1.0214e-04 - val_loss: 4.3856e-04\n",
            "Epoch 37/100\n",
            "18/18 [==============================] - 0s 14ms/step - loss: 1.0172e-04 - val_loss: 4.2871e-04\n",
            "Epoch 38/100\n",
            "18/18 [==============================] - 0s 14ms/step - loss: 1.0044e-04 - val_loss: 4.1775e-04\n",
            "Epoch 39/100\n",
            "18/18 [==============================] - 0s 14ms/step - loss: 1.0093e-04 - val_loss: 3.8611e-04\n",
            "Epoch 40/100\n",
            "18/18 [==============================] - 0s 16ms/step - loss: 1.0191e-04 - val_loss: 4.6642e-04\n",
            "Epoch 41/100\n",
            "18/18 [==============================] - 0s 15ms/step - loss: 1.1134e-04 - val_loss: 5.3356e-04\n",
            "Epoch 42/100\n",
            "18/18 [==============================] - 0s 14ms/step - loss: 1.2930e-04 - val_loss: 5.9287e-04\n",
            "Epoch 43/100\n",
            "18/18 [==============================] - 0s 14ms/step - loss: 1.2147e-04 - val_loss: 4.4782e-04\n",
            "Epoch 44/100\n",
            "18/18 [==============================] - 0s 14ms/step - loss: 1.0656e-04 - val_loss: 4.1070e-04\n",
            "Epoch 45/100\n",
            "18/18 [==============================] - 0s 14ms/step - loss: 1.0228e-04 - val_loss: 4.2295e-04\n",
            "Epoch 46/100\n",
            "18/18 [==============================] - 0s 14ms/step - loss: 9.9263e-05 - val_loss: 3.6307e-04\n",
            "Epoch 47/100\n",
            "18/18 [==============================] - 0s 14ms/step - loss: 1.0193e-04 - val_loss: 4.6427e-04\n",
            "Epoch 48/100\n",
            "18/18 [==============================] - 0s 14ms/step - loss: 1.0098e-04 - val_loss: 6.0698e-04\n",
            "Epoch 49/100\n",
            "18/18 [==============================] - 0s 13ms/step - loss: 1.0513e-04 - val_loss: 4.0790e-04\n",
            "Epoch 50/100\n",
            "18/18 [==============================] - 0s 13ms/step - loss: 9.8466e-05 - val_loss: 3.6657e-04\n",
            "Epoch 51/100\n",
            "18/18 [==============================] - 0s 14ms/step - loss: 9.9465e-05 - val_loss: 3.9858e-04\n",
            "Epoch 52/100\n",
            "18/18 [==============================] - 0s 14ms/step - loss: 1.0064e-04 - val_loss: 4.1594e-04\n",
            "Epoch 53/100\n",
            "18/18 [==============================] - 0s 13ms/step - loss: 1.0857e-04 - val_loss: 3.7518e-04\n",
            "Epoch 54/100\n",
            "18/18 [==============================] - 0s 14ms/step - loss: 1.0622e-04 - val_loss: 3.5926e-04\n",
            "Epoch 55/100\n",
            "18/18 [==============================] - 0s 13ms/step - loss: 1.0352e-04 - val_loss: 3.5474e-04\n",
            "Epoch 56/100\n",
            "18/18 [==============================] - 0s 14ms/step - loss: 1.1368e-04 - val_loss: 3.5662e-04\n",
            "Epoch 57/100\n",
            "18/18 [==============================] - 0s 14ms/step - loss: 1.0612e-04 - val_loss: 3.6739e-04\n",
            "Epoch 58/100\n",
            "18/18 [==============================] - 0s 14ms/step - loss: 1.0027e-04 - val_loss: 3.5620e-04\n",
            "Epoch 59/100\n",
            "18/18 [==============================] - 0s 13ms/step - loss: 1.0950e-04 - val_loss: 3.5278e-04\n",
            "Epoch 60/100\n",
            "18/18 [==============================] - 0s 14ms/step - loss: 1.1285e-04 - val_loss: 6.0407e-04\n",
            "Epoch 61/100\n",
            "18/18 [==============================] - 0s 15ms/step - loss: 1.1321e-04 - val_loss: 5.0416e-04\n",
            "Epoch 62/100\n",
            "18/18 [==============================] - 0s 14ms/step - loss: 1.0033e-04 - val_loss: 7.5486e-04\n",
            "Epoch 63/100\n",
            "18/18 [==============================] - 0s 14ms/step - loss: 1.1965e-04 - val_loss: 6.5933e-04\n",
            "Epoch 64/100\n",
            "18/18 [==============================] - 0s 15ms/step - loss: 1.2489e-04 - val_loss: 4.2020e-04\n",
            "Epoch 65/100\n",
            "18/18 [==============================] - 0s 15ms/step - loss: 1.0665e-04 - val_loss: 5.0070e-04\n",
            "Epoch 66/100\n",
            "18/18 [==============================] - 0s 14ms/step - loss: 9.6838e-05 - val_loss: 4.3051e-04\n",
            "Epoch 67/100\n",
            "18/18 [==============================] - 0s 14ms/step - loss: 9.4721e-05 - val_loss: 3.4910e-04\n",
            "Epoch 68/100\n",
            "18/18 [==============================] - 0s 15ms/step - loss: 1.0227e-04 - val_loss: 4.5550e-04\n",
            "Epoch 69/100\n",
            "18/18 [==============================] - 0s 14ms/step - loss: 9.9813e-05 - val_loss: 4.1812e-04\n",
            "Epoch 70/100\n",
            "18/18 [==============================] - 0s 14ms/step - loss: 9.8848e-05 - val_loss: 3.7732e-04\n",
            "Epoch 71/100\n",
            "18/18 [==============================] - 0s 13ms/step - loss: 1.0263e-04 - val_loss: 4.0673e-04\n",
            "Epoch 72/100\n",
            "18/18 [==============================] - 0s 15ms/step - loss: 1.0050e-04 - val_loss: 5.7436e-04\n",
            "Epoch 73/100\n",
            "18/18 [==============================] - 0s 14ms/step - loss: 1.0706e-04 - val_loss: 3.4695e-04\n",
            "Epoch 74/100\n",
            "18/18 [==============================] - 0s 15ms/step - loss: 9.7135e-05 - val_loss: 4.1490e-04\n",
            "Epoch 75/100\n",
            "18/18 [==============================] - 0s 14ms/step - loss: 9.7830e-05 - val_loss: 3.7331e-04\n",
            "Epoch 76/100\n",
            "18/18 [==============================] - 0s 14ms/step - loss: 1.1146e-04 - val_loss: 3.8356e-04\n",
            "Epoch 77/100\n",
            "18/18 [==============================] - 0s 14ms/step - loss: 1.0205e-04 - val_loss: 3.4914e-04\n",
            "Epoch 78/100\n",
            "18/18 [==============================] - 0s 13ms/step - loss: 9.9674e-05 - val_loss: 5.8808e-04\n",
            "Epoch 79/100\n",
            "18/18 [==============================] - 0s 13ms/step - loss: 1.1190e-04 - val_loss: 4.7685e-04\n",
            "Epoch 80/100\n",
            "18/18 [==============================] - 0s 14ms/step - loss: 1.0851e-04 - val_loss: 3.5982e-04\n",
            "Epoch 81/100\n",
            "18/18 [==============================] - 0s 14ms/step - loss: 1.2035e-04 - val_loss: 3.5142e-04\n",
            "Epoch 82/100\n",
            "18/18 [==============================] - 0s 14ms/step - loss: 1.0383e-04 - val_loss: 3.4989e-04\n",
            "Epoch 83/100\n",
            "18/18 [==============================] - 0s 13ms/step - loss: 1.0103e-04 - val_loss: 4.5728e-04\n",
            "Epoch 84/100\n",
            "18/18 [==============================] - 0s 15ms/step - loss: 1.1673e-04 - val_loss: 4.0456e-04\n",
            "Epoch 85/100\n",
            "18/18 [==============================] - 0s 14ms/step - loss: 1.0443e-04 - val_loss: 3.4851e-04\n",
            "Epoch 86/100\n",
            "18/18 [==============================] - 0s 14ms/step - loss: 1.0495e-04 - val_loss: 4.5720e-04\n",
            "Epoch 87/100\n",
            "18/18 [==============================] - 0s 14ms/step - loss: 1.2130e-04 - val_loss: 3.6891e-04\n",
            "Epoch 88/100\n",
            "18/18 [==============================] - 0s 14ms/step - loss: 1.1263e-04 - val_loss: 4.1547e-04\n",
            "Epoch 89/100\n",
            "18/18 [==============================] - 0s 14ms/step - loss: 1.0216e-04 - val_loss: 4.8841e-04\n",
            "Epoch 90/100\n",
            "18/18 [==============================] - 0s 14ms/step - loss: 9.4361e-05 - val_loss: 3.9817e-04\n",
            "Epoch 91/100\n",
            "18/18 [==============================] - 0s 14ms/step - loss: 9.2745e-05 - val_loss: 3.9170e-04\n",
            "Epoch 92/100\n",
            "18/18 [==============================] - 0s 15ms/step - loss: 1.2821e-04 - val_loss: 5.1744e-04\n",
            "Epoch 93/100\n",
            "18/18 [==============================] - 0s 13ms/step - loss: 1.1832e-04 - val_loss: 3.5435e-04\n",
            "Epoch 94/100\n",
            "18/18 [==============================] - 0s 13ms/step - loss: 9.3800e-05 - val_loss: 5.0962e-04\n",
            "Epoch 95/100\n",
            "18/18 [==============================] - 0s 14ms/step - loss: 9.6597e-05 - val_loss: 3.5166e-04\n",
            "Epoch 96/100\n",
            "18/18 [==============================] - 0s 15ms/step - loss: 9.5291e-05 - val_loss: 3.3111e-04\n",
            "Epoch 97/100\n",
            "18/18 [==============================] - 0s 13ms/step - loss: 9.6958e-05 - val_loss: 3.5197e-04\n",
            "Epoch 98/100\n",
            "18/18 [==============================] - 0s 13ms/step - loss: 9.6423e-05 - val_loss: 3.3268e-04\n",
            "Epoch 99/100\n",
            "18/18 [==============================] - 0s 13ms/step - loss: 1.0657e-04 - val_loss: 4.0681e-04\n",
            "Epoch 100/100\n",
            "18/18 [==============================] - 0s 14ms/step - loss: 1.2291e-04 - val_loss: 3.8934e-04\n"
          ]
        }
      ]
    },
    {
      "cell_type": "markdown",
      "source": [
        "Plot of Training loss vs Validation Loss"
      ],
      "metadata": {
        "id": "HivlAYfItyY6"
      }
    },
    {
      "cell_type": "code",
      "source": [
        "# plt.plot(history.history['loss'], label='Training loss')\n",
        "# plt.plot(history.history['val_loss'], label='Validation loss')\n",
        "# plt.legend()"
      ],
      "metadata": {
        "id": "iMd79BoJrHLY"
      },
      "execution_count": null,
      "outputs": []
    },
    {
      "cell_type": "code",
      "source": [
        "train_pred= model.predict(X_train)\n",
        "test_pred=model.predict(X_test)"
      ],
      "metadata": {
        "id": "XWTJH2z5qs0o"
      },
      "execution_count": null,
      "outputs": []
    },
    {
      "cell_type": "markdown",
      "source": [
        "Plot for Test Predictions and Test data"
      ],
      "metadata": {
        "id": "JjobadNit8pw"
      }
    },
    {
      "cell_type": "code",
      "source": [
        "df1[\"Date\"]=pd.to_datetime(df1[\"Date\"])\n",
        "f1={\"family\":'sans-serif',\"color\":\"k\",'size':20}\n",
        "plt.figure(figsize=(16,6))\n",
        "plt.plot(df1[\"Date\"][-112:],scaler.inverse_transform(test_pred),label=\"Predicted Stock Price\")\n",
        "plt.plot(df1[\"Date\"][-112:],scaler.inverse_transform(y_test),label=\"Original Stock Price\")\n",
        "plt.xlabel(\"Date\",fontsize=20)\n",
        "plt.ylabel(\"Price\",fontsize=20)\n",
        "plt.legend()\n",
        "plt.tight_layout()"
      ],
      "metadata": {
        "colab": {
          "base_uri": "https://localhost:8080/",
          "height": 461
        },
        "id": "MdAQaYaXq0Jd",
        "outputId": "d98f5a83-075f-4bbb-a853-36515c30e439"
      },
      "execution_count": null,
      "outputs": [
        {
          "output_type": "display_data",
          "data": {
            "text/plain": [
              "<Figure size 1152x432 with 1 Axes>"
            ],
            "image/png": "[encoded data removed]"
          },
          "metadata": {
            "needs_background": "light"
          }
        }
      ]
    },
    {
      "cell_type": "code",
      "source": [
        "l1=train_pred.tolist()\n",
        "l2=test_pred.tolist()\n",
        "l1.extend(l2)\n",
        "l3=np.array(l1)\n",
        "predicted=scaler.inverse_transform(l3)\n",
        "df1[\"Date\"]=pd.to_datetime(df1[\"Date\"])"
      ],
      "metadata": {
        "id": "X-p5Y5LCsODt"
      },
      "execution_count": null,
      "outputs": []
    },
    {
      "cell_type": "markdown",
      "source": [
        "Plot of Original and Predicted stock prices"
      ],
      "metadata": {
        "id": "YznEVQDfuBdX"
      }
    },
    {
      "cell_type": "code",
      "source": [
        "plt.plot(df1[\"Date\"],df1[\"Close\"],label=\"Original Stock Price\")\n",
        "plt.plot(df1[\"Date\"],predicted,label=\"Predicted Stock Price\")\n",
        "plt.legend()"
      ],
      "metadata": {
        "colab": {
          "base_uri": "https://localhost:8080/",
          "height": 282
        },
        "id": "VlwudKcssOAJ",
        "outputId": "d60fe33e-145f-4418-cc7a-938c7d00d8eb"
      },
      "execution_count": null,
      "outputs": [
        {
          "output_type": "execute_result",
          "data": {
            "text/plain": [
              "<matplotlib.legend.Legend at 0x7f69ccaaafd0>"
            ]
          },
          "metadata": {},
          "execution_count": 15
        },
        {
          "output_type": "display_data",
          "data": {
            "text/plain": [
              "<Figure size 432x288 with 1 Axes>"
            ],
            "image/png": "[encoded data removed]"
          },
          "metadata": {
            "needs_background": "light"
          }
        }
      ]
    },
    {
      "cell_type": "code",
      "source": [
        "df1.insert(8,\"Close Predicted\",predicted)\n",
        "df1.drop(\"Total Trade Quantity\",inplace=True,axis=1)\n",
        "df1.drop(\"Turnover (Lacs)\",inplace=True,axis=1)\n",
        "df1.to_csv(\"Newly predicted values.csv\")"
      ],
      "metadata": {
        "id": "PKAhAF4Kr8xp"
      },
      "execution_count": null,
      "outputs": []
    },
    {
      "cell_type": "markdown",
      "source": [
        "New DataFrame with predicted values of close column"
      ],
      "metadata": {
        "id": "7IIrO8UguWU2"
      }
    },
    {
      "cell_type": "code",
      "source": [
        "df1"
      ],
      "metadata": {
        "colab": {
          "base_uri": "https://localhost:8080/",
          "height": 455
        },
        "id": "fh3gXXlus9Vl",
        "outputId": "b627bb8a-7f8b-4c5b-8af5-73783605580c"
      },
      "execution_count": null,
      "outputs": [
        {
          "output_type": "execute_result",
          "data": {
            "text/plain": [
              "            Date    Open    High     Low    Last   Close  Close Predicted\n",
              "Index                                                                    \n",
              "0     2013-10-08  157.00  157.80  155.20  155.80  155.80       156.138028\n",
              "1     2013-10-09  155.70  158.20  154.15  155.30  155.55       155.462530\n",
              "2     2013-10-10  156.00  160.80  155.85  160.30  160.15       157.064832\n",
              "3     2013-10-11  161.15  163.45  159.00  159.80  160.05       160.704422\n",
              "4     2013-10-14  160.85  161.45  157.70  159.30  159.45       159.675179\n",
              "...          ...     ...     ...     ...     ...     ...              ...\n",
              "1230  2018-10-01  234.55  234.60  221.05  230.30  230.90       232.526823\n",
              "1231  2018-10-03  230.00  237.50  225.75  226.45  227.60       232.020031\n",
              "1232  2018-10-04  223.50  227.80  216.15  217.25  218.20       223.609973\n",
              "1233  2018-10-05  217.00  218.60  205.90  210.25  209.20       215.373876\n",
              "1234  2018-10-08  208.00  222.25  206.85  216.00  215.15       213.122619\n",
              "\n",
              "[1235 rows x 7 columns]"
            ],
            "text/html": [
              "\n",
              "  <div id=\"df-00bd9b22-8e00-4951-bb73-8f1281ab5c90\">\n",
              "    <div class=\"colab-df-container\">\n",
              "      <div>\n",
              "<style scoped>\n",
              "    .dataframe tbody tr th:only-of-type {\n",
              "        vertical-align: middle;\n",
              "    }\n",
              "\n",
              "    .dataframe tbody tr th {\n",
              "        vertical-align: top;\n",
              "    }\n",
              "\n",
              "    .dataframe thead th {\n",
              "        text-align: right;\n",
              "    }\n",
              "</style>\n",
              "<table border=\"1\" class=\"dataframe\">\n",
              "  <thead>\n",
              "    <tr style=\"text-align: right;\">\n",
              "      <th></th>\n",
              "      <th>Date</th>\n",
              "      <th>Open</th>\n",
              "      <th>High</th>\n",
              "      <th>Low</th>\n",
              "      <th>Last</th>\n",
              "      <th>Close</th>\n",
              "      <th>Close Predicted</th>\n",
              "    </tr>\n",
              "    <tr>\n",
              "      <th>Index</th>\n",
              "      <th></th>\n",
              "      <th></th>\n",
              "      <th></th>\n",
              "      <th></th>\n",
              "      <th></th>\n",
              "      <th></th>\n",
              "      <th></th>\n",
              "    </tr>\n",
              "  </thead>\n",
              "  <tbody>\n",
              "    <tr>\n",
              "      <th>0</th>\n",
              "      <td>2013-10-08</td>\n",
              "      <td>157.00</td>\n",
              "      <td>157.80</td>\n",
              "      <td>155.20</td>\n",
              "      <td>155.80</td>\n",
              "      <td>155.80</td>\n",
              "      <td>156.138028</td>\n",
              "    </tr>\n",
              "    <tr>\n",
              "      <th>1</th>\n",
              "      <td>2013-10-09</td>\n",
              "      <td>155.70</td>\n",
              "      <td>158.20</td>\n",
              "      <td>154.15</td>\n",
              "      <td>155.30</td>\n",
              "      <td>155.55</td>\n",
              "      <td>155.462530</td>\n",
              "    </tr>\n",
              "    <tr>\n",
              "      <th>2</th>\n",
              "      <td>2013-10-10</td>\n",
              "      <td>156.00</td>\n",
              "      <td>160.80</td>\n",
              "      <td>155.85</td>\n",
              "      <td>160.30</td>\n",
              "      <td>160.15</td>\n",
              "      <td>157.064832</td>\n",
              "    </tr>\n",
              "    <tr>\n",
              "      <th>3</th>\n",
              "      <td>2013-10-11</td>\n",
              "      <td>161.15</td>\n",
              "      <td>163.45</td>\n",
              "      <td>159.00</td>\n",
              "      <td>159.80</td>\n",
              "      <td>160.05</td>\n",
              "      <td>160.704422</td>\n",
              "    </tr>\n",
              "    <tr>\n",
              "      <th>4</th>\n",
              "      <td>2013-10-14</td>\n",
              "      <td>160.85</td>\n",
              "      <td>161.45</td>\n",
              "      <td>157.70</td>\n",
              "      <td>159.30</td>\n",
              "      <td>159.45</td>\n",
              "      <td>159.675179</td>\n",
              "    </tr>\n",
              "    <tr>\n",
              "      <th>...</th>\n",
              "      <td>...</td>\n",
              "      <td>...</td>\n",
              "      <td>...</td>\n",
              "      <td>...</td>\n",
              "      <td>...</td>\n",
              "      <td>...</td>\n",
              "      <td>...</td>\n",
              "    </tr>\n",
              "    <tr>\n",
              "      <th>1230</th>\n",
              "      <td>2018-10-01</td>\n",
              "      <td>234.55</td>\n",
              "      <td>234.60</td>\n",
              "      <td>221.05</td>\n",
              "      <td>230.30</td>\n",
              "      <td>230.90</td>\n",
              "      <td>232.526823</td>\n",
              "    </tr>\n",
              "    <tr>\n",
              "      <th>1231</th>\n",
              "      <td>2018-10-03</td>\n",
              "      <td>230.00</td>\n",
              "      <td>237.50</td>\n",
              "      <td>225.75</td>\n",
              "      <td>226.45</td>\n",
              "      <td>227.60</td>\n",
              "      <td>232.020031</td>\n",
              "    </tr>\n",
              "    <tr>\n",
              "      <th>1232</th>\n",
              "      <td>2018-10-04</td>\n",
              "      <td>223.50</td>\n",
              "      <td>227.80</td>\n",
              "      <td>216.15</td>\n",
              "      <td>217.25</td>\n",
              "      <td>218.20</td>\n",
              "      <td>223.609973</td>\n",
              "    </tr>\n",
              "    <tr>\n",
              "      <th>1233</th>\n",
              "      <td>2018-10-05</td>\n",
              "      <td>217.00</td>\n",
              "      <td>218.60</td>\n",
              "      <td>205.90</td>\n",
              "      <td>210.25</td>\n",
              "      <td>209.20</td>\n",
              "      <td>215.373876</td>\n",
              "    </tr>\n",
              "    <tr>\n",
              "      <th>1234</th>\n",
              "      <td>2018-10-08</td>\n",
              "      <td>208.00</td>\n",
              "      <td>222.25</td>\n",
              "      <td>206.85</td>\n",
              "      <td>216.00</td>\n",
              "      <td>215.15</td>\n",
              "      <td>213.122619</td>\n",
              "    </tr>\n",
              "  </tbody>\n",
              "</table>\n",
              "<p>1235 rows × 7 columns</p>\n",
              "</div>\n",
              "      <button class=\"colab-df-convert\" onclick=\"convertToInteractive('df-00bd9b22-8e00-4951-bb73-8f1281ab5c90')\"\n",
              "              title=\"Convert this dataframe to an interactive table.\"\n",
              "              style=\"display:none;\">\n",
              "        \n",
              "  <svg xmlns=\"http://www.w3.org/2000/svg\" height=\"24px\"viewBox=\"0 0 24 24\"\n",
              "       width=\"24px\">\n",
              "    <path d=\"M0 0h24v24H0V0z\" fill=\"none\"/>\n",
              "    <path d=\"M18.56 5.44l.94 2.06.94-2.06 2.06-.94-2.06-.94-.94-2.06-.94 2.06-2.06.94zm-11 1L8.5 8.5l.94-2.06 2.06-.94-2.06-.94L8.5 2.5l-.94 2.06-2.06.94zm10 10l.94 2.06.94-2.06 2.06-.94-2.06-.94-.94-2.06-.94 2.06-2.06.94z\"/><path d=\"M17.41 7.96l-1.37-1.37c-.4-.4-.92-.59-1.43-.59-.52 0-1.04.2-1.43.59L10.3 9.45l-7.72 7.72c-.78.78-.78 2.05 0 2.83L4 21.41c.39.39.9.59 1.41.59.51 0 1.02-.2 1.41-.59l7.78-7.78 2.81-2.81c.8-.78.8-2.07 0-2.86zM5.41 20L4 18.59l7.72-7.72 1.47 1.35L5.41 20z\"/>\n",
              "  </svg>\n",
              "      </button>\n",
              "      \n",
              "  <style>\n",
              "    .colab-df-container {\n",
              "      display:flex;\n",
              "      flex-wrap:wrap;\n",
              "      gap: 12px;\n",
              "    }\n",
              "\n",
              "    .colab-df-convert {\n",
              "      background-color: #E8F0FE;\n",
              "      border: none;\n",
              "      border-radius: 50%;\n",
              "      cursor: pointer;\n",
              "      display: none;\n",
              "      fill: #1967D2;\n",
              "      height: 32px;\n",
              "      padding: 0 0 0 0;\n",
              "      width: 32px;\n",
              "    }\n",
              "\n",
              "    .colab-df-convert:hover {\n",
              "      background-color: #E2EBFA;\n",
              "      box-shadow: 0px 1px 2px rgba(60, 64, 67, 0.3), 0px 1px 3px 1px rgba(60, 64, 67, 0.15);\n",
              "      fill: #174EA6;\n",
              "    }\n",
              "\n",
              "    [theme=dark] .colab-df-convert {\n",
              "      background-color: #3B4455;\n",
              "      fill: #D2E3FC;\n",
              "    }\n",
              "\n",
              "    [theme=dark] .colab-df-convert:hover {\n",
              "      background-color: #434B5C;\n",
              "      box-shadow: 0px 1px 3px 1px rgba(0, 0, 0, 0.15);\n",
              "      filter: drop-shadow(0px 1px 2px rgba(0, 0, 0, 0.3));\n",
              "      fill: #FFFFFF;\n",
              "    }\n",
              "  </style>\n",
              "\n",
              "      <script>\n",
              "        const buttonEl =\n",
              "          document.querySelector('#df-00bd9b22-8e00-4951-bb73-8f1281ab5c90 button.colab-df-convert');\n",
              "        buttonEl.style.display =\n",
              "          google.colab.kernel.accessAllowed ? 'block' : 'none';\n",
              "\n",
              "        async function convertToInteractive(key) {\n",
              "          const element = document.querySelector('#df-00bd9b22-8e00-4951-bb73-8f1281ab5c90');\n",
              "          const dataTable =\n",
              "            await google.colab.kernel.invokeFunction('convertToInteractive',\n",
              "                                                     [key], {});\n",
              "          if (!dataTable) return;\n",
              "\n",
              "          const docLinkHtml = 'Like what you see? Visit the ' +\n",
              "            '<a target=\"_blank\" href=https://colab.research.google.com/notebooks/data_table.ipynb>data table notebook</a>'\n",
              "            + ' to learn more about interactive tables.';\n",
              "          element.innerHTML = '';\n",
              "          dataTable['output_type'] = 'display_data';\n",
              "          await google.colab.output.renderOutput(dataTable, element);\n",
              "          const docLink = document.createElement('div');\n",
              "          docLink.innerHTML = docLinkHtml;\n",
              "          element.appendChild(docLink);\n",
              "        }\n",
              "      </script>\n",
              "    </div>\n",
              "  </div>\n",
              "  "
            ]
          },
          "metadata": {},
          "execution_count": 17
        }
      ]
    },
    {
      "cell_type": "code",
      "source": [
        ""
      ],
      "metadata": {
        "id": "L7DQ7KPTs_ZU"
      },
      "execution_count": null,
      "outputs": []
    }
  ]
}